{
  "nbformat": 4,
  "nbformat_minor": 0,
  "metadata": {
    "kernelspec": {
      "display_name": "Python 3",
      "language": "python",
      "name": "python3"
    },
    "language_info": {
      "codemirror_mode": {
        "name": "ipython",
        "version": 3
      },
      "file_extension": ".py",
      "mimetype": "text/x-python",
      "name": "python",
      "nbconvert_exporter": "python",
      "pygments_lexer": "ipython3",
      "version": "3.6.6"
    },
    "colab": {
      "name": "linear-regression-models.ipynb",
      "provenance": [],
      "collapsed_sections": []
    }
  },
  "cells": [
    {
      "cell_type": "markdown",
      "metadata": {
        "id": "YTm8Zy3AjcsD"
      },
      "source": [
        "![Usa Jesus.PNG](https://i.ibb.co/nf4Fd4q/Usa-Jesus.png)\n",
        "\n",
        "#**Regresion Lineal multivariable**\n",
        "\n",
        "La regresión lineal múltiple trata de ajustar modelos lineales o linealizables entre una variable dependiente y más de una variables independientes. La regresión es una técnica estadística que consiste en calcular dicha correlacion entre par de variables en forma de función matemática. Esta función nos ofrece mucha más información sobre dicha relación. Por ejemplo, el modelo más sencillo: la regresión lineal simple, ya nos informa de las siguientes magnitudes: la magnitud de la correlación; el incremento marginal, el valor de una de ellas cuando la otra es cero y si dicha relación puede considerarse significativa o fuerte (distinta de una relación normal) o no significativa o débil (similar a una relación normal)\n",
        "\n",
        "###**Scikit-Learn**\n",
        "\n",
        "*Scikit-Learn* es una de estas librerías gratuitas para Python. Cuenta con algoritmos de clasificación, regresión, clustering y reducción de dimensionalidad. Además, presenta la compatibilidad con otras librerías de Python como NumPy, SciPy y matplotlib.\n",
        "\n",
        "La gran variedad de algoritmos y utilidades de Scikit-learn la convierten en la herramienta básica para empezar a programar y estructurar los sistemas de análisis datos y modelado estadístico. Los algoritmos de Scikit-Learn se combinan y depuran con otras estructuras de datos y aplicaciones externas como Pandas o PyBrain.\n",
        "\n",
        "*Modelo de regresión lineal Scikit-Learn:*\n",
        "[enlace](https://scikit-learn.org/stable/modules/generated/sklearn.linear_model.LinearRegression.html)\n",
        "\n",
        "*Ejemplo de regresion lineal sklearn:*\n",
        "[enlace](https://scikit-learn.org/stable/auto_examples/linear_model/plot_ols.html)\n"
      ]
    },
    {
      "cell_type": "markdown",
      "metadata": {
        "id": "dfWpIJFgt_Fl"
      },
      "source": [
        "##**1. Importe de librerias:** Pandas, Numpy, Seaborn, Matplotlib\n",
        "\n",
        "*- Adicional se importal el modelo de regresion lineal por **sklearn**.*"
      ]
    },
    {
      "cell_type": "code",
      "metadata": {
        "_cell_guid": "b1076dfc-b9ad-4769-8c92-a6c4dae69d19",
        "_uuid": "8f2839f25d086af736a60e9eeb907d3b93b6e0e5",
        "id": "2X-3dXv6jcsM"
      },
      "source": [
        "import numpy as np \n",
        "import pandas as pd\n",
        "import matplotlib.pyplot as plt\n",
        "import seaborn as sns        \n",
        "from sklearn.model_selection import train_test_split\n",
        "from sklearn.linear_model import LinearRegression\n",
        "from sklearn.metrics import mean_absolute_error, mean_squared_error, r2_score\n",
        "import warnings\n",
        "warnings.filterwarnings('ignore')"
      ],
      "execution_count": 32,
      "outputs": []
    },
    {
      "cell_type": "markdown",
      "metadata": {
        "id": "9jOCcdBijcsQ"
      },
      "source": [
        "##**2. Cargue del data set:** \n",
        "Realizamos el importe de nuestro data set *countries by happiness level* [*2018*](https://raw.githubusercontent.com/jchaves1406/Machine-Learning/main/Modelos%20Machine%20Learning/2018.csv), [*2019*](https://raw.githubusercontent.com/jchaves1406/Machine-Learning/main/Modelos%20Machine%20Learning/2019.csv)  el cual se encuentra en archivos independientes separado por años. En primer lugar procederemos a extraerlos en variables independientes para luego concatenarlos en una sola variable la cual tendrá toda la información de nuestro data set, pero con los datos sin normalizar. En nuestro data set la columna *score* corresponderá a nuestras variables independientes (***Target***), de manera que las demas columnas serán nuestras variables dependientes (***Features***)."
      ]
    },
    {
      "cell_type": "code",
      "metadata": {
        "_cell_guid": "79c7e3d0-c299-4dcb-8224-4455121ee9b0",
        "_uuid": "d629ff2d2480ee46fbb7e2d37f6b5fab8052498a",
        "colab": {
          "base_uri": "https://localhost:8080/",
          "height": 453
        },
        "id": "HA1VvnCijcsR",
        "outputId": "653ac15a-b97a-4360-af72-71959a3679a3"
      },
      "source": [
        "year_2018 = pd.read_csv(\"2018.csv\");\n",
        "year_2019 = pd.read_csv(\"2019.csv\");\n",
        "\n",
        "dataFrameCountries = pd.concat([year_2018,year_2019],sort=False)\n",
        "dataFrameCountries.head()"
      ],
      "execution_count": 33,
      "outputs": [
        {
          "output_type": "execute_result",
          "data": {
            "text/html": [
              "<div>\n",
              "<style scoped>\n",
              "    .dataframe tbody tr th:only-of-type {\n",
              "        vertical-align: middle;\n",
              "    }\n",
              "\n",
              "    .dataframe tbody tr th {\n",
              "        vertical-align: top;\n",
              "    }\n",
              "\n",
              "    .dataframe thead th {\n",
              "        text-align: right;\n",
              "    }\n",
              "</style>\n",
              "<table border=\"1\" class=\"dataframe\">\n",
              "  <thead>\n",
              "    <tr style=\"text-align: right;\">\n",
              "      <th></th>\n",
              "      <th>Overall rank</th>\n",
              "      <th>Country or region</th>\n",
              "      <th>Score</th>\n",
              "      <th>GDP per capita</th>\n",
              "      <th>Social support</th>\n",
              "      <th>Healthy life expectancy</th>\n",
              "      <th>Freedom to make life choices</th>\n",
              "      <th>Generosity</th>\n",
              "      <th>Perceptions of corruption</th>\n",
              "    </tr>\n",
              "  </thead>\n",
              "  <tbody>\n",
              "    <tr>\n",
              "      <th>0</th>\n",
              "      <td>1</td>\n",
              "      <td>Finland</td>\n",
              "      <td>7.632</td>\n",
              "      <td>1.305</td>\n",
              "      <td>1.592</td>\n",
              "      <td>0.874</td>\n",
              "      <td>0.681</td>\n",
              "      <td>0.202</td>\n",
              "      <td>0.393</td>\n",
              "    </tr>\n",
              "    <tr>\n",
              "      <th>1</th>\n",
              "      <td>2</td>\n",
              "      <td>Norway</td>\n",
              "      <td>7.594</td>\n",
              "      <td>1.456</td>\n",
              "      <td>1.582</td>\n",
              "      <td>0.861</td>\n",
              "      <td>0.686</td>\n",
              "      <td>0.286</td>\n",
              "      <td>0.340</td>\n",
              "    </tr>\n",
              "    <tr>\n",
              "      <th>2</th>\n",
              "      <td>3</td>\n",
              "      <td>Denmark</td>\n",
              "      <td>7.555</td>\n",
              "      <td>1.351</td>\n",
              "      <td>1.590</td>\n",
              "      <td>0.868</td>\n",
              "      <td>0.683</td>\n",
              "      <td>0.284</td>\n",
              "      <td>0.408</td>\n",
              "    </tr>\n",
              "    <tr>\n",
              "      <th>3</th>\n",
              "      <td>4</td>\n",
              "      <td>Iceland</td>\n",
              "      <td>7.495</td>\n",
              "      <td>1.343</td>\n",
              "      <td>1.644</td>\n",
              "      <td>0.914</td>\n",
              "      <td>0.677</td>\n",
              "      <td>0.353</td>\n",
              "      <td>0.138</td>\n",
              "    </tr>\n",
              "    <tr>\n",
              "      <th>4</th>\n",
              "      <td>5</td>\n",
              "      <td>Switzerland</td>\n",
              "      <td>7.487</td>\n",
              "      <td>1.420</td>\n",
              "      <td>1.549</td>\n",
              "      <td>0.927</td>\n",
              "      <td>0.660</td>\n",
              "      <td>0.256</td>\n",
              "      <td>0.357</td>\n",
              "    </tr>\n",
              "    <tr>\n",
              "      <th>...</th>\n",
              "      <td>...</td>\n",
              "      <td>...</td>\n",
              "      <td>...</td>\n",
              "      <td>...</td>\n",
              "      <td>...</td>\n",
              "      <td>...</td>\n",
              "      <td>...</td>\n",
              "      <td>...</td>\n",
              "      <td>...</td>\n",
              "    </tr>\n",
              "    <tr>\n",
              "      <th>151</th>\n",
              "      <td>152</td>\n",
              "      <td>Rwanda</td>\n",
              "      <td>3.334</td>\n",
              "      <td>0.359</td>\n",
              "      <td>0.711</td>\n",
              "      <td>0.614</td>\n",
              "      <td>0.555</td>\n",
              "      <td>0.217</td>\n",
              "      <td>0.411</td>\n",
              "    </tr>\n",
              "    <tr>\n",
              "      <th>152</th>\n",
              "      <td>153</td>\n",
              "      <td>Tanzania</td>\n",
              "      <td>3.231</td>\n",
              "      <td>0.476</td>\n",
              "      <td>0.885</td>\n",
              "      <td>0.499</td>\n",
              "      <td>0.417</td>\n",
              "      <td>0.276</td>\n",
              "      <td>0.147</td>\n",
              "    </tr>\n",
              "    <tr>\n",
              "      <th>153</th>\n",
              "      <td>154</td>\n",
              "      <td>Afghanistan</td>\n",
              "      <td>3.203</td>\n",
              "      <td>0.350</td>\n",
              "      <td>0.517</td>\n",
              "      <td>0.361</td>\n",
              "      <td>0.000</td>\n",
              "      <td>0.158</td>\n",
              "      <td>0.025</td>\n",
              "    </tr>\n",
              "    <tr>\n",
              "      <th>154</th>\n",
              "      <td>155</td>\n",
              "      <td>Central African Republic</td>\n",
              "      <td>3.083</td>\n",
              "      <td>0.026</td>\n",
              "      <td>0.000</td>\n",
              "      <td>0.105</td>\n",
              "      <td>0.225</td>\n",
              "      <td>0.235</td>\n",
              "      <td>0.035</td>\n",
              "    </tr>\n",
              "    <tr>\n",
              "      <th>155</th>\n",
              "      <td>156</td>\n",
              "      <td>South Sudan</td>\n",
              "      <td>2.853</td>\n",
              "      <td>0.306</td>\n",
              "      <td>0.575</td>\n",
              "      <td>0.295</td>\n",
              "      <td>0.010</td>\n",
              "      <td>0.202</td>\n",
              "      <td>0.091</td>\n",
              "    </tr>\n",
              "  </tbody>\n",
              "</table>\n",
              "<p>312 rows × 9 columns</p>\n",
              "</div>"
            ],
            "text/plain": [
              "     Overall rank  ... Perceptions of corruption\n",
              "0               1  ...                     0.393\n",
              "1               2  ...                     0.340\n",
              "2               3  ...                     0.408\n",
              "3               4  ...                     0.138\n",
              "4               5  ...                     0.357\n",
              "..            ...  ...                       ...\n",
              "151           152  ...                     0.411\n",
              "152           153  ...                     0.147\n",
              "153           154  ...                     0.025\n",
              "154           155  ...                     0.035\n",
              "155           156  ...                     0.091\n",
              "\n",
              "[312 rows x 9 columns]"
            ]
          },
          "metadata": {},
          "execution_count": 33
        }
      ]
    },
    {
      "cell_type": "markdown",
      "metadata": {
        "id": "Q0DSrLOMjcsU"
      },
      "source": [
        "##**2.1 Descripcion de variables:** \n",
        "\n",
        "1. Overall rank: Ranking de los paises con mayor percepcion de felicidad.\n",
        "2. Country or region: Nombre del pais o region.\n",
        "3. Score: Puntaje de satisfaccion.\n",
        "4. GDP per capita: Valor que representa los niveles de ingresos y gastos del país.\n",
        "5. Social support: Apoyo o inversion social.\n",
        "6. Healthy life expectancy: Esperanza de vida saludable.\n",
        "7. Freedom to make life choices: Percepcion de libertad para tomar decisiones en la vida.\n",
        "8. Generosity: Percepcion de generosidad.\n",
        "9. Perceptions of corruption: Percepcion de corrupcion"
      ]
    },
    {
      "cell_type": "markdown",
      "metadata": {
        "id": "n57Ksw2e0O55"
      },
      "source": [
        "##**2.2 Visualizacion estadistica de los datos:** \n",
        "\n",
        "El método **DataFrame.describe()** genera estadísticas descriptivas que resumen la tendencia central, la dispersión y la forma de la distribución de un conjunto de datos, excluyendo los valores de NaN. Este método nos dice muchas cosas sobre un conjunto de datos. Una cosa importante es que el método describe () trata solo con valores numéricos. No funciona con valores categóricos. Entonces, si hay valores categóricos en una columna, el método describe () lo ignorará y mostrará un resumen para las otras columnas a menos que se pase el parámetro include = \"all\".\n",
        "\n",
        "Ahora, entendamos las estadísticas que se generan con el método describe ():\n",
        "* count nos dice el número de filas vacías NoN en una característica.\n",
        "* mean nos dice el valor medio de esa característica.\n",
        "* std nos dice el valor de desviación estándar de esa característica.\n",
        "* min nos dice el valor mínimo de esa característica.\n",
        "* 25%, 50% y 75% son el percentil / cuartil de cada característica. Esta información de cuartiles nos ayuda a detectar valores atípicos.\n",
        "* max nos dice el valor máximo de esa característica.\n",
        "\n",
        "Fuente: [pandas docs(DataFrame.describe)](https://pandas.pydata.org/pandas-docs/stable/generated/pandas.DataFrame.describe.html#pandas.DataFrame.describe)"
      ]
    },
    {
      "cell_type": "code",
      "metadata": {
        "colab": {
          "base_uri": "https://localhost:8080/",
          "height": 297
        },
        "id": "1tpVDdBrjcsV",
        "outputId": "30b60259-5105-425b-a22f-91ca8d5f8625"
      },
      "source": [
        "dataFrameCountries.describe().T"
      ],
      "execution_count": 34,
      "outputs": [
        {
          "output_type": "execute_result",
          "data": {
            "text/html": [
              "<div>\n",
              "<style scoped>\n",
              "    .dataframe tbody tr th:only-of-type {\n",
              "        vertical-align: middle;\n",
              "    }\n",
              "\n",
              "    .dataframe tbody tr th {\n",
              "        vertical-align: top;\n",
              "    }\n",
              "\n",
              "    .dataframe thead th {\n",
              "        text-align: right;\n",
              "    }\n",
              "</style>\n",
              "<table border=\"1\" class=\"dataframe\">\n",
              "  <thead>\n",
              "    <tr style=\"text-align: right;\">\n",
              "      <th></th>\n",
              "      <th>count</th>\n",
              "      <th>mean</th>\n",
              "      <th>std</th>\n",
              "      <th>min</th>\n",
              "      <th>25%</th>\n",
              "      <th>50%</th>\n",
              "      <th>75%</th>\n",
              "      <th>max</th>\n",
              "    </tr>\n",
              "  </thead>\n",
              "  <tbody>\n",
              "    <tr>\n",
              "      <th>Overall rank</th>\n",
              "      <td>312.0</td>\n",
              "      <td>78.500000</td>\n",
              "      <td>45.104737</td>\n",
              "      <td>1.000</td>\n",
              "      <td>39.75000</td>\n",
              "      <td>78.5000</td>\n",
              "      <td>117.25000</td>\n",
              "      <td>156.000</td>\n",
              "    </tr>\n",
              "    <tr>\n",
              "      <th>Score</th>\n",
              "      <td>312.0</td>\n",
              "      <td>5.391506</td>\n",
              "      <td>1.114631</td>\n",
              "      <td>2.853</td>\n",
              "      <td>4.51425</td>\n",
              "      <td>5.3795</td>\n",
              "      <td>6.17600</td>\n",
              "      <td>7.769</td>\n",
              "    </tr>\n",
              "    <tr>\n",
              "      <th>GDP per capita</th>\n",
              "      <td>312.0</td>\n",
              "      <td>0.898298</td>\n",
              "      <td>0.394592</td>\n",
              "      <td>0.000</td>\n",
              "      <td>0.60950</td>\n",
              "      <td>0.9600</td>\n",
              "      <td>1.21950</td>\n",
              "      <td>2.096</td>\n",
              "    </tr>\n",
              "    <tr>\n",
              "      <th>Social support</th>\n",
              "      <td>312.0</td>\n",
              "      <td>1.211026</td>\n",
              "      <td>0.300310</td>\n",
              "      <td>0.000</td>\n",
              "      <td>1.05575</td>\n",
              "      <td>1.2655</td>\n",
              "      <td>1.45750</td>\n",
              "      <td>1.644</td>\n",
              "    </tr>\n",
              "    <tr>\n",
              "      <th>Healthy life expectancy</th>\n",
              "      <td>312.0</td>\n",
              "      <td>0.661295</td>\n",
              "      <td>0.252724</td>\n",
              "      <td>0.000</td>\n",
              "      <td>0.48825</td>\n",
              "      <td>0.6990</td>\n",
              "      <td>0.85800</td>\n",
              "      <td>1.141</td>\n",
              "    </tr>\n",
              "    <tr>\n",
              "      <th>Freedom to make life choices</th>\n",
              "      <td>312.0</td>\n",
              "      <td>0.423538</td>\n",
              "      <td>0.156024</td>\n",
              "      <td>0.000</td>\n",
              "      <td>0.32250</td>\n",
              "      <td>0.4495</td>\n",
              "      <td>0.54025</td>\n",
              "      <td>0.724</td>\n",
              "    </tr>\n",
              "    <tr>\n",
              "      <th>Generosity</th>\n",
              "      <td>312.0</td>\n",
              "      <td>0.182926</td>\n",
              "      <td>0.096739</td>\n",
              "      <td>0.000</td>\n",
              "      <td>0.10875</td>\n",
              "      <td>0.1755</td>\n",
              "      <td>0.24500</td>\n",
              "      <td>0.598</td>\n",
              "    </tr>\n",
              "    <tr>\n",
              "      <th>Perceptions of corruption</th>\n",
              "      <td>311.0</td>\n",
              "      <td>0.111299</td>\n",
              "      <td>0.095365</td>\n",
              "      <td>0.000</td>\n",
              "      <td>0.05000</td>\n",
              "      <td>0.0820</td>\n",
              "      <td>0.14050</td>\n",
              "      <td>0.457</td>\n",
              "    </tr>\n",
              "  </tbody>\n",
              "</table>\n",
              "</div>"
            ],
            "text/plain": [
              "                              count       mean  ...        75%      max\n",
              "Overall rank                  312.0  78.500000  ...  117.25000  156.000\n",
              "Score                         312.0   5.391506  ...    6.17600    7.769\n",
              "GDP per capita                312.0   0.898298  ...    1.21950    2.096\n",
              "Social support                312.0   1.211026  ...    1.45750    1.644\n",
              "Healthy life expectancy       312.0   0.661295  ...    0.85800    1.141\n",
              "Freedom to make life choices  312.0   0.423538  ...    0.54025    0.724\n",
              "Generosity                    312.0   0.182926  ...    0.24500    0.598\n",
              "Perceptions of corruption     311.0   0.111299  ...    0.14050    0.457\n",
              "\n",
              "[8 rows x 8 columns]"
            ]
          },
          "metadata": {},
          "execution_count": 34
        }
      ]
    },
    {
      "cell_type": "markdown",
      "metadata": {
        "id": "hp5_7oGh7P8X"
      },
      "source": [
        "##**2.3 Renombrar variables:**\n",
        "Podemos cambiar el nombre de nuestras variables para dar un manejo mas optimo a nuestro dataFrame. Adicional podemos eliminar variables que no sean relevantes dentro para el analisis. "
      ]
    },
    {
      "cell_type": "code",
      "metadata": {
        "id": "lbNrj5Ng1FoJ"
      },
      "source": [
        "#Renombrar variables:\n",
        "dataFrameCountries.rename(columns={\n",
        "    \"Overall rank\": \"rank\",\n",
        "    \"Country or region\": \"country\",\n",
        "    \"Score\": \"score\",\n",
        "    \"GDP per capita\": \"gdp\",\n",
        "    \"Social support\": \"social\",\n",
        "    \"Healthy life expectancy\": \"healthy\",\n",
        "    \"Freedom to make life choices\": \"freedom\",\n",
        "    \"Generosity\": \"generosity\",\n",
        "    \"Perceptions of corruption\": \"corruption\"\n",
        "},inplace=True)"
      ],
      "execution_count": 35,
      "outputs": []
    },
    {
      "cell_type": "code",
      "metadata": {
        "id": "Zo7IQFz78KEx"
      },
      "source": [
        "#Eliminar la columna de 'Overall rank' debido a que no es un dato relevante en nuestro dataFrame\n",
        "del dataFrameCountries[\"rank\"]\n"
      ],
      "execution_count": 36,
      "outputs": []
    },
    {
      "cell_type": "markdown",
      "metadata": {
        "id": "02lKTTQJhuCf"
      },
      "source": [
        "##**2.4 Información del dataFrame:** Tipos de datos\n",
        "\n",
        "Para saber que tipo de datos tiene nuestro dataFrame usaremos el metodo ***.info()*** el cual mostrara el tipo de dato de cada una de nuestras variables. Proporciona información sobre los tipos de datos, columnas, recuentos de valores nulos, uso de memoria, etc.\n",
        "\n",
        "Fuente: [pandas docs(DataFrame.info)](https://pandas.pydata.org/pandas-docs/stable/generated/pandas.DataFrame.info.html)"
      ]
    },
    {
      "cell_type": "code",
      "metadata": {
        "colab": {
          "base_uri": "https://localhost:8080/"
        },
        "id": "CskGpzIUjcsW",
        "outputId": "3cb7c603-3f0c-4b06-9511-8a02e6bad553"
      },
      "source": [
        "dataFrameCountries.info()"
      ],
      "execution_count": 38,
      "outputs": [
        {
          "output_type": "stream",
          "name": "stdout",
          "text": [
            "<class 'pandas.core.frame.DataFrame'>\n",
            "Int64Index: 312 entries, 0 to 155\n",
            "Data columns (total 8 columns):\n",
            " #   Column      Non-Null Count  Dtype  \n",
            "---  ------      --------------  -----  \n",
            " 0   country     312 non-null    object \n",
            " 1   score       312 non-null    float64\n",
            " 2   gdp         312 non-null    float64\n",
            " 3   social      312 non-null    float64\n",
            " 4   healthy     312 non-null    float64\n",
            " 5   freedom     312 non-null    float64\n",
            " 6   generosity  312 non-null    float64\n",
            " 7   corruption  311 non-null    float64\n",
            "dtypes: float64(7), object(1)\n",
            "memory usage: 21.9+ KB\n"
          ]
        }
      ]
    },
    {
      "cell_type": "markdown",
      "metadata": {
        "id": "d-kPQzOhjcsZ"
      },
      "source": [
        "\n",
        "##**2.5 Valores nulos**\n",
        "Realizamos una búsqueda en el dataFrame para encontrar datos nulos que puedan afectar nuestro análisis, en caso de haber eliminaremos los datos del país para así evitar errores en los resultados del análisis posterior."
      ]
    },
    {
      "cell_type": "code",
      "metadata": {
        "colab": {
          "base_uri": "https://localhost:8080/"
        },
        "id": "peinAdrgjcsa",
        "outputId": "a0474422-5de6-455b-c65a-5c7e4a209215"
      },
      "source": [
        "# Busqueda de posiciones nulas en el dataFrame\n",
        "dataFrameCountries.columns[dataFrameCountries.isnull().any()]"
      ],
      "execution_count": 39,
      "outputs": [
        {
          "output_type": "execute_result",
          "data": {
            "text/plain": [
              "Index(['corruption'], dtype='object')"
            ]
          },
          "metadata": {},
          "execution_count": 39
        }
      ]
    },
    {
      "cell_type": "code",
      "metadata": {
        "colab": {
          "base_uri": "https://localhost:8080/"
        },
        "id": "oOF0ijADjcsb",
        "outputId": "5600f115-c9c8-47f7-b4eb-a9deee04ce11"
      },
      "source": [
        "# Podemos hacer un conteo de todos los valores nulos en nuestro dataFrame de la siguiente manera:\n",
        "dataFrameCountries.isnull().sum()"
      ],
      "execution_count": 40,
      "outputs": [
        {
          "output_type": "execute_result",
          "data": {
            "text/plain": [
              "country       0\n",
              "score         0\n",
              "gdp           0\n",
              "social        0\n",
              "healthy       0\n",
              "freedom       0\n",
              "generosity    0\n",
              "corruption    1\n",
              "dtype: int64"
            ]
          },
          "metadata": {},
          "execution_count": 40
        }
      ]
    },
    {
      "cell_type": "code",
      "metadata": {
        "colab": {
          "base_uri": "https://localhost:8080/",
          "height": 80
        },
        "id": "-dJylcO6jcsc",
        "outputId": "4cc753a9-a6d5-4b77-ae58-d504c1e0bb6b"
      },
      "source": [
        "# Encontramos el pais que posee el dato null\n",
        "dataFrameCountries[dataFrameCountries[\"corruption\"].isnull()]"
      ],
      "execution_count": 41,
      "outputs": [
        {
          "output_type": "execute_result",
          "data": {
            "text/html": [
              "<div>\n",
              "<style scoped>\n",
              "    .dataframe tbody tr th:only-of-type {\n",
              "        vertical-align: middle;\n",
              "    }\n",
              "\n",
              "    .dataframe tbody tr th {\n",
              "        vertical-align: top;\n",
              "    }\n",
              "\n",
              "    .dataframe thead th {\n",
              "        text-align: right;\n",
              "    }\n",
              "</style>\n",
              "<table border=\"1\" class=\"dataframe\">\n",
              "  <thead>\n",
              "    <tr style=\"text-align: right;\">\n",
              "      <th></th>\n",
              "      <th>country</th>\n",
              "      <th>score</th>\n",
              "      <th>gdp</th>\n",
              "      <th>social</th>\n",
              "      <th>healthy</th>\n",
              "      <th>freedom</th>\n",
              "      <th>generosity</th>\n",
              "      <th>corruption</th>\n",
              "    </tr>\n",
              "  </thead>\n",
              "  <tbody>\n",
              "    <tr>\n",
              "      <th>19</th>\n",
              "      <td>United Arab Emirates</td>\n",
              "      <td>6.774</td>\n",
              "      <td>2.096</td>\n",
              "      <td>0.776</td>\n",
              "      <td>0.67</td>\n",
              "      <td>0.284</td>\n",
              "      <td>0.186</td>\n",
              "      <td>NaN</td>\n",
              "    </tr>\n",
              "  </tbody>\n",
              "</table>\n",
              "</div>"
            ],
            "text/plain": [
              "                 country  score    gdp  ...  freedom  generosity  corruption\n",
              "19  United Arab Emirates  6.774  2.096  ...    0.284       0.186         NaN\n",
              "\n",
              "[1 rows x 8 columns]"
            ]
          },
          "metadata": {},
          "execution_count": 41
        }
      ]
    },
    {
      "cell_type": "code",
      "metadata": {
        "id": "eHUTV7K4jcsc"
      },
      "source": [
        "# Eliminar pais o paises que contengan celdas nulas\n",
        "dataFrameCountries = dataFrameCountries.dropna()"
      ],
      "execution_count": 42,
      "outputs": []
    },
    {
      "cell_type": "markdown",
      "metadata": {
        "id": "-nliU-Qcjcsd"
      },
      "source": [
        "##**3 Preparacion del dataFrame**\n",
        "Se dice que el 95% de un modelo de aprendizaje automático es preprocesamiento y el 5% es selección de modelo. Para ello, necesitamos enseñar los datos al modelo correctamente. Para preparar los datos disponibles para el aprendizaje automático, debemos aplicar ciertos métodos de preprocesamiento. Uno de estos métodos es el análisis de valores atípicos (**Outliers**). El valor atípico es cualquier punto de datos que sea sustancialmente diferente del resto de las observaciones en un conjunto de datos. En otras palabras, es la observación la que va mucho más allá de la tendencia general.\n",
        "\n",
        "![](https://miro.medium.com/max/854/1*RW-vfIbKZh-UGsLfTAWpyw.png)"
      ]
    },
    {
      "cell_type": "markdown",
      "metadata": {
        "id": "lqU1n_Sojcsd"
      },
      "source": [
        "##**3.1 Outliers**\n",
        "Los valores atípicos se comportan de manera diferente a otros modelos de datos y aumentan el error con el sobreajuste, por lo que se debe detectar el modelo atípico y se deben realizar algunas operaciones en él.\n",
        "###**Uso de un gráfico de caja**\n",
        "Podemos ver observaciones contradictorias con muchas técnicas de visualización. Uno de ellos es el gráfico de cajas. Si hay un valor atípico, se dibuja como el punto, pero la otra población se agrupa y se muestra en cuadros."
      ]
    },
    {
      "cell_type": "code",
      "metadata": {
        "colab": {
          "base_uri": "https://localhost:8080/",
          "height": 204
        },
        "id": "maXaj9Vqjcse",
        "outputId": "17d54507-fefe-4e12-c974-0b15d099be66"
      },
      "source": [
        "df = dataFrameCountries.copy()\n",
        "df = df.select_dtypes(include=[\"float64\",\"int64\"])\n",
        "df.head()"
      ],
      "execution_count": 43,
      "outputs": [
        {
          "output_type": "execute_result",
          "data": {
            "text/html": [
              "<div>\n",
              "<style scoped>\n",
              "    .dataframe tbody tr th:only-of-type {\n",
              "        vertical-align: middle;\n",
              "    }\n",
              "\n",
              "    .dataframe tbody tr th {\n",
              "        vertical-align: top;\n",
              "    }\n",
              "\n",
              "    .dataframe thead th {\n",
              "        text-align: right;\n",
              "    }\n",
              "</style>\n",
              "<table border=\"1\" class=\"dataframe\">\n",
              "  <thead>\n",
              "    <tr style=\"text-align: right;\">\n",
              "      <th></th>\n",
              "      <th>score</th>\n",
              "      <th>gdp</th>\n",
              "      <th>social</th>\n",
              "      <th>healthy</th>\n",
              "      <th>freedom</th>\n",
              "      <th>generosity</th>\n",
              "      <th>corruption</th>\n",
              "    </tr>\n",
              "  </thead>\n",
              "  <tbody>\n",
              "    <tr>\n",
              "      <th>0</th>\n",
              "      <td>7.632</td>\n",
              "      <td>1.305</td>\n",
              "      <td>1.592</td>\n",
              "      <td>0.874</td>\n",
              "      <td>0.681</td>\n",
              "      <td>0.202</td>\n",
              "      <td>0.393</td>\n",
              "    </tr>\n",
              "    <tr>\n",
              "      <th>1</th>\n",
              "      <td>7.594</td>\n",
              "      <td>1.456</td>\n",
              "      <td>1.582</td>\n",
              "      <td>0.861</td>\n",
              "      <td>0.686</td>\n",
              "      <td>0.286</td>\n",
              "      <td>0.340</td>\n",
              "    </tr>\n",
              "    <tr>\n",
              "      <th>2</th>\n",
              "      <td>7.555</td>\n",
              "      <td>1.351</td>\n",
              "      <td>1.590</td>\n",
              "      <td>0.868</td>\n",
              "      <td>0.683</td>\n",
              "      <td>0.284</td>\n",
              "      <td>0.408</td>\n",
              "    </tr>\n",
              "    <tr>\n",
              "      <th>3</th>\n",
              "      <td>7.495</td>\n",
              "      <td>1.343</td>\n",
              "      <td>1.644</td>\n",
              "      <td>0.914</td>\n",
              "      <td>0.677</td>\n",
              "      <td>0.353</td>\n",
              "      <td>0.138</td>\n",
              "    </tr>\n",
              "    <tr>\n",
              "      <th>4</th>\n",
              "      <td>7.487</td>\n",
              "      <td>1.420</td>\n",
              "      <td>1.549</td>\n",
              "      <td>0.927</td>\n",
              "      <td>0.660</td>\n",
              "      <td>0.256</td>\n",
              "      <td>0.357</td>\n",
              "    </tr>\n",
              "  </tbody>\n",
              "</table>\n",
              "</div>"
            ],
            "text/plain": [
              "   score    gdp  social  healthy  freedom  generosity  corruption\n",
              "0  7.632  1.305   1.592    0.874    0.681       0.202       0.393\n",
              "1  7.594  1.456   1.582    0.861    0.686       0.286       0.340\n",
              "2  7.555  1.351   1.590    0.868    0.683       0.284       0.408\n",
              "3  7.495  1.343   1.644    0.914    0.677       0.353       0.138\n",
              "4  7.487  1.420   1.549    0.927    0.660       0.256       0.357"
            ]
          },
          "metadata": {},
          "execution_count": 43
        }
      ]
    },
    {
      "cell_type": "code",
      "metadata": {
        "colab": {
          "base_uri": "https://localhost:8080/",
          "height": 1000
        },
        "id": "3UuRaVUTjcsf",
        "outputId": "db69eb76-568b-4495-afe7-cea7b7d13a09"
      },
      "source": [
        "column_list = [\"score\",\"gdp\",\"social\",\"healthy\",\"freedom\",\"generosity\",\"corruption\"]\n",
        "for col in column_list:\n",
        "    sns.boxplot(x = df[col])\n",
        "    plt.xlabel(col)\n",
        "    plt.show()"
      ],
      "execution_count": 44,
      "outputs": [
        {
          "output_type": "display_data",
          "data": {
            "image/png": "[encoded data removed]",
            "text/plain": [
              "<Figure size 432x288 with 1 Axes>"
            ]
          },
          "metadata": {
            "needs_background": "light"
          }
        },
        {
          "output_type": "display_data",
          "data": {
            "image/png": "[encoded data removed]",
            "text/plain": [
              "<Figure size 432x288 with 1 Axes>"
            ]
          },
          "metadata": {
            "needs_background": "light"
          }
        },
        {
          "output_type": "display_data",
          "data": {
            "image/png": "[encoded data removed]",
            "text/plain": [
              "<Figure size 432x288 with 1 Axes>"
            ]
          },
          "metadata": {
            "needs_background": "light"
          }
        },
        {
          "output_type": "display_data",
          "data": {
            "image/png": "[encoded data removed]",
            "text/plain": [
              "<Figure size 432x288 with 1 Axes>"
            ]
          },
          "metadata": {
            "needs_background": "light"
          }
        },
        {
          "output_type": "display_data",
          "data": {
            "image/png": "[encoded data removed]",
            "text/plain": [
              "<Figure size 432x288 with 1 Axes>"
            ]
          },
          "metadata": {
            "needs_background": "light"
          }
        },
        {
          "output_type": "display_data",
          "data": {
            "image/png": "[encoded data removed]",
            "text/plain": [
              "<Figure size 432x288 with 1 Axes>"
            ]
          },
          "metadata": {
            "needs_background": "light"
          }
        },
        {
          "output_type": "display_data",
          "data": {
            "image/png": "[encoded data removed]",
            "text/plain": [
              "<Figure size 432x288 with 1 Axes>"
            ]
          },
          "metadata": {
            "needs_background": "light"
          }
        }
      ]
    },
    {
      "cell_type": "markdown",
      "metadata": {
        "id": "CB413lP8jcsg"
      },
      "source": [
        "Hemos observado que hay valores atípicos en la columna \"social\" y \"corrupción\". Esto puede hacer que nos afecte negativamente mientras entrenamos nuestro conjunto de datos.\n",
        "\n",
        "\n",
        "Para corregir estos valores atipicos usaremos el IQR que es la diferencia entre Q3 y Q1 y se denomina rango intercuartil o IQR. Cualquier punto de datos menor que el límite inferior o mayor que el límite superior se considera un valor atípico."
      ]
    },
    {
      "cell_type": "code",
      "metadata": {
        "colab": {
          "base_uri": "https://localhost:8080/"
        },
        "id": "ODpa12DGjcsg",
        "outputId": "93f1be7e-4bc8-49cf-a1b3-02673d237cbd"
      },
      "source": [
        "# Para \"corruption\"\n",
        "df_table = df['corruption']\n",
        "\n",
        "Q1 = df_table.quantile(0.25)\n",
        "Q3 = df_table.quantile(0.75)\n",
        "IQR = Q3 - Q1\n",
        "\n",
        "lower_bound = Q1 - 1.5*IQR\n",
        "upper_bound = Q3 + 1.5*IQR\n",
        "print(\"El limite inferior es: \" + str(lower_bound))\n",
        "print(\"El limite superior es: \" + str(upper_bound))\n",
        "print(\"Q1: \", Q1)\n",
        "print(\"Q3: \", Q3)"
      ],
      "execution_count": 45,
      "outputs": [
        {
          "output_type": "stream",
          "name": "stdout",
          "text": [
            "El limite inferior es: -0.08575\n",
            "El limite superior es: 0.27625\n",
            "Q1:  0.05\n",
            "Q3:  0.1405\n"
          ]
        }
      ]
    },
    {
      "cell_type": "code",
      "metadata": {
        "colab": {
          "base_uri": "https://localhost:8080/"
        },
        "id": "pJDdzVQejcsh",
        "outputId": "0e85b3a6-4504-48d4-f8bb-66366f79d981"
      },
      "source": [
        "# Vector de valores atipicos\n",
        "outliers_vector = (df_table < (lower_bound)) | (df_table > (upper_bound))\n",
        "outliers_vector"
      ],
      "execution_count": 46,
      "outputs": [
        {
          "output_type": "execute_result",
          "data": {
            "text/plain": [
              "0       True\n",
              "1       True\n",
              "2       True\n",
              "3      False\n",
              "4       True\n",
              "       ...  \n",
              "151     True\n",
              "152    False\n",
              "153    False\n",
              "154    False\n",
              "155    False\n",
              "Name: corruption, Length: 311, dtype: bool"
            ]
          },
          "metadata": {},
          "execution_count": 46
        }
      ]
    },
    {
      "cell_type": "code",
      "metadata": {
        "colab": {
          "base_uri": "https://localhost:8080/"
        },
        "id": "MbVqQpekjcsi",
        "outputId": "c894be59-a2f3-4670-f067-a374da7625d2"
      },
      "source": [
        "outliers_vector = df_table[outliers_vector]\n",
        "outliers_vector.index.values"
      ],
      "execution_count": 47,
      "outputs": [
        {
          "output_type": "execute_result",
          "data": {
            "text/plain": [
              "array([  0,   1,   2,   4,   5,   6,   7,   8,   9,  13,  14,  16,  33,\n",
              "        75,  97, 150,   0,   1,   2,   4,   5,   6,   7,   8,  10,  13,\n",
              "        14,  15,  33,  75, 151])"
            ]
          },
          "metadata": {},
          "execution_count": 47
        }
      ]
    },
    {
      "cell_type": "markdown",
      "metadata": {
        "id": "hdIcv6l3jcsi"
      },
      "source": [
        "\n",
        "* La eliminación de datos no es adecuada para este conjunto de datos. Es por eso que completaremos los valores atípicos con el promedio."
      ]
    },
    {
      "cell_type": "code",
      "metadata": {
        "colab": {
          "base_uri": "https://localhost:8080/"
        },
        "id": "jZXBBZikjcsi",
        "outputId": "e7eb1d10-1d1b-48d2-80b1-06075c252799"
      },
      "source": [
        "df_table = dataFrameCountries.copy()\n",
        "df_table[\"corruption\"].iloc[outliers_vector.index.values] = df_table[\"corruption\"].mean()\n",
        "df_table[\"corruption\"].iloc[outliers_vector.index.values]"
      ],
      "execution_count": 48,
      "outputs": [
        {
          "output_type": "execute_result",
          "data": {
            "text/plain": [
              "0      0.111299\n",
              "1      0.111299\n",
              "2      0.111299\n",
              "4      0.111299\n",
              "5      0.111299\n",
              "6      0.111299\n",
              "7      0.111299\n",
              "8      0.111299\n",
              "9      0.111299\n",
              "13     0.111299\n",
              "14     0.111299\n",
              "16     0.111299\n",
              "34     0.111299\n",
              "76     0.111299\n",
              "98     0.111299\n",
              "151    0.111299\n",
              "0      0.111299\n",
              "1      0.111299\n",
              "2      0.111299\n",
              "4      0.111299\n",
              "5      0.111299\n",
              "6      0.111299\n",
              "7      0.111299\n",
              "8      0.111299\n",
              "10     0.111299\n",
              "13     0.111299\n",
              "14     0.111299\n",
              "15     0.111299\n",
              "34     0.111299\n",
              "76     0.111299\n",
              "152    0.111299\n",
              "Name: corruption, dtype: float64"
            ]
          },
          "metadata": {},
          "execution_count": 48
        }
      ]
    },
    {
      "cell_type": "code",
      "metadata": {
        "id": "3uV71oI2jcsj"
      },
      "source": [
        "# Sustituimos con el promedio de los valores atipicos\n",
        "dataFrameCountries = df_table"
      ],
      "execution_count": 49,
      "outputs": []
    },
    {
      "cell_type": "markdown",
      "metadata": {
        "id": "4Z8tpMNVYndh"
      },
      "source": [
        "##**4. Matriz de correlación:**\n",
        "\n",
        "Para construir nuestra matriz de correlación normalizada de nuestro dataFrame usaremos el método de normalización de la librería pandas ***dataFrame.corr()*** la cual se encargara de realizar la normalización de nuestra matriz."
      ]
    },
    {
      "cell_type": "code",
      "metadata": {
        "colab": {
          "base_uri": "https://localhost:8080/",
          "height": 266
        },
        "id": "TsHFvaHeY0bY",
        "outputId": "4addbd09-eedd-4bf9-8fda-4548549f0564"
      },
      "source": [
        "matrizCorrNoNorm = dataFrameCountries.corr()\n",
        "matrizCorrNoNorm"
      ],
      "execution_count": 50,
      "outputs": [
        {
          "output_type": "execute_result",
          "data": {
            "text/html": [
              "<div>\n",
              "<style scoped>\n",
              "    .dataframe tbody tr th:only-of-type {\n",
              "        vertical-align: middle;\n",
              "    }\n",
              "\n",
              "    .dataframe tbody tr th {\n",
              "        vertical-align: top;\n",
              "    }\n",
              "\n",
              "    .dataframe thead th {\n",
              "        text-align: right;\n",
              "    }\n",
              "</style>\n",
              "<table border=\"1\" class=\"dataframe\">\n",
              "  <thead>\n",
              "    <tr style=\"text-align: right;\">\n",
              "      <th></th>\n",
              "      <th>score</th>\n",
              "      <th>gdp</th>\n",
              "      <th>social</th>\n",
              "      <th>healthy</th>\n",
              "      <th>freedom</th>\n",
              "      <th>generosity</th>\n",
              "      <th>corruption</th>\n",
              "    </tr>\n",
              "  </thead>\n",
              "  <tbody>\n",
              "    <tr>\n",
              "      <th>score</th>\n",
              "      <td>1.000000</td>\n",
              "      <td>0.799764</td>\n",
              "      <td>0.771401</td>\n",
              "      <td>0.757621</td>\n",
              "      <td>0.545533</td>\n",
              "      <td>0.106783</td>\n",
              "      <td>0.260286</td>\n",
              "    </tr>\n",
              "    <tr>\n",
              "      <th>gdp</th>\n",
              "      <td>0.799764</td>\n",
              "      <td>1.000000</td>\n",
              "      <td>0.741045</td>\n",
              "      <td>0.828661</td>\n",
              "      <td>0.357517</td>\n",
              "      <td>-0.045785</td>\n",
              "      <td>0.218885</td>\n",
              "    </tr>\n",
              "    <tr>\n",
              "      <th>social</th>\n",
              "      <td>0.771401</td>\n",
              "      <td>0.741045</td>\n",
              "      <td>1.000000</td>\n",
              "      <td>0.670643</td>\n",
              "      <td>0.417982</td>\n",
              "      <td>-0.014267</td>\n",
              "      <td>0.105249</td>\n",
              "    </tr>\n",
              "    <tr>\n",
              "      <th>healthy</th>\n",
              "      <td>0.757621</td>\n",
              "      <td>0.828661</td>\n",
              "      <td>0.670643</td>\n",
              "      <td>1.000000</td>\n",
              "      <td>0.301978</td>\n",
              "      <td>0.001473</td>\n",
              "      <td>0.235859</td>\n",
              "    </tr>\n",
              "    <tr>\n",
              "      <th>freedom</th>\n",
              "      <td>0.545533</td>\n",
              "      <td>0.357517</td>\n",
              "      <td>0.417982</td>\n",
              "      <td>0.301978</td>\n",
              "      <td>1.000000</td>\n",
              "      <td>0.275441</td>\n",
              "      <td>0.349671</td>\n",
              "    </tr>\n",
              "    <tr>\n",
              "      <th>generosity</th>\n",
              "      <td>0.106783</td>\n",
              "      <td>-0.045785</td>\n",
              "      <td>-0.014267</td>\n",
              "      <td>0.001473</td>\n",
              "      <td>0.275441</td>\n",
              "      <td>1.000000</td>\n",
              "      <td>0.280423</td>\n",
              "    </tr>\n",
              "    <tr>\n",
              "      <th>corruption</th>\n",
              "      <td>0.260286</td>\n",
              "      <td>0.218885</td>\n",
              "      <td>0.105249</td>\n",
              "      <td>0.235859</td>\n",
              "      <td>0.349671</td>\n",
              "      <td>0.280423</td>\n",
              "      <td>1.000000</td>\n",
              "    </tr>\n",
              "  </tbody>\n",
              "</table>\n",
              "</div>"
            ],
            "text/plain": [
              "               score       gdp    social  ...   freedom  generosity  corruption\n",
              "score       1.000000  0.799764  0.771401  ...  0.545533    0.106783    0.260286\n",
              "gdp         0.799764  1.000000  0.741045  ...  0.357517   -0.045785    0.218885\n",
              "social      0.771401  0.741045  1.000000  ...  0.417982   -0.014267    0.105249\n",
              "healthy     0.757621  0.828661  0.670643  ...  0.301978    0.001473    0.235859\n",
              "freedom     0.545533  0.357517  0.417982  ...  1.000000    0.275441    0.349671\n",
              "generosity  0.106783 -0.045785 -0.014267  ...  0.275441    1.000000    0.280423\n",
              "corruption  0.260286  0.218885  0.105249  ...  0.349671    0.280423    1.000000\n",
              "\n",
              "[7 rows x 7 columns]"
            ]
          },
          "metadata": {},
          "execution_count": 50
        }
      ]
    },
    {
      "cell_type": "markdown",
      "metadata": {
        "id": "qHeFTR8qY-GS"
      },
      "source": [
        "##**4.1 Mapa de calor:** Correlación\n",
        "Un mapa de calor es una representación bidimensional de información con la ayuda de colores. Los mapas de calor pueden ayudar al usuario a visualizar información simple o compleja."
      ]
    },
    {
      "cell_type": "code",
      "metadata": {
        "colab": {
          "base_uri": "https://localhost:8080/",
          "height": 850
        },
        "id": "qN2Ryj3-RaaD",
        "outputId": "b2d19dcb-3b36-4658-82b7-85768d74d0e2"
      },
      "source": [
        "f,ax=plt.subplots(figsize=(15,15))\n",
        "sns.heatmap(matrizCorrNoNorm, annot=True, linewidths=.5, fmt='.2f', \n",
        "            mask= np.zeros_like(matrizCorrNoNorm,dtype=np.bool), \n",
        "            cmap=sns.diverging_palette(100,200,as_cmap=True), \n",
        "            square=True, ax=ax)\n",
        "\n",
        "plt.show()"
      ],
      "execution_count": 51,
      "outputs": [
        {
          "output_type": "display_data",
          "data": {
            "image/png": "[encoded data removed]",
            "text/plain": [
              "<Figure size 1080x1080 with 2 Axes>"
            ]
          },
          "metadata": {
            "needs_background": "light"
          }
        }
      ]
    },
    {
      "cell_type": "markdown",
      "metadata": {
        "id": "KUGcaKIqjcsu"
      },
      "source": [
        "##**5. Regresión lineal multivariable:**\n",
        "\n",
        "Se ajusta nuestro dataFrame al modelo de regresión lineal, para esto separaremos nuestras ***features*** de nuestra variable ***target (score)*** de la siguiente manera:"
      ]
    },
    {
      "cell_type": "code",
      "metadata": {
        "id": "i9oneswmjcsu"
      },
      "source": [
        "X = df.drop(\"score\",axis=1)\n",
        "y = df[\"score\"]"
      ],
      "execution_count": 52,
      "outputs": []
    },
    {
      "cell_type": "markdown",
      "metadata": {
        "id": "CXNVSkzFqIIC"
      },
      "source": [
        "##**5.1 Entrenamiento:**\n",
        "\n",
        "Se divide nuestro dataFrame en datos de entrenamiento y datos de prueba donde indicaremos la cantidad porcentual de datos que queremos para prueba y el restante serán datos de entrenamiento. Indicaremos a nuestro método que no seleccione muestras aleatorias usando ***shuffle = False***. Para saber la cantidad de datos para entrenamiento usaremos el método ***.shape*** en la variable de las ***features***."
      ]
    },
    {
      "cell_type": "code",
      "metadata": {
        "colab": {
          "base_uri": "https://localhost:8080/"
        },
        "id": "OHHeAXePjcsw",
        "outputId": "0023777a-73fd-4bde-a055-2f54b0326aad"
      },
      "source": [
        "\n",
        "X_train, X_test, y_train, y_test = train_test_split(X, y, test_size = 0.2, shuffle = False)\n",
        "print(\" Shape of x_train = \", X_train.shape)\n",
        "print(\" Shape of x_test = \", X_test.shape)\n",
        "print(\" Shape of y_train = \", y_train.shape)\n",
        "print(\" Shape of y_test = \", y_test.shape)"
      ],
      "execution_count": 53,
      "outputs": [
        {
          "output_type": "stream",
          "name": "stdout",
          "text": [
            " Shape of x_train =  (248, 6)\n",
            " Shape of x_test =  (63, 6)\n",
            " Shape of y_train =  (248,)\n",
            " Shape of y_test =  (63,)\n"
          ]
        }
      ]
    },
    {
      "cell_type": "markdown",
      "metadata": {
        "id": "mbG2vwuwqysA"
      },
      "source": [
        "##**5.2 Creación del modelo:**\n",
        "\n",
        "Se crea el objeto del modelo de regresión lineal normalizado, para esto indicaremos a nuestro objeto ***LinearRegression(normalize = True)***. A continuación, entrenaremos el modelo enviando los datos de entrenamiento tanto ***features*** como ***target*** seleccionados en el paso anterior.\n"
      ]
    },
    {
      "cell_type": "code",
      "metadata": {
        "colab": {
          "base_uri": "https://localhost:8080/"
        },
        "id": "lSMNtjF1jcsw",
        "outputId": "6326333f-a27e-4493-cd0c-596a43499e23"
      },
      "source": [
        "# Creacion del modelo con sci-kit learn\n",
        "ModeloLRNorm = LinearRegression(normalize = True)\n",
        "ModeloLRNorm.fit(X_train, y_train)"
      ],
      "execution_count": 54,
      "outputs": [
        {
          "output_type": "execute_result",
          "data": {
            "text/plain": [
              "LinearRegression(normalize=True)"
            ]
          },
          "metadata": {},
          "execution_count": 54
        }
      ]
    },
    {
      "cell_type": "code",
      "metadata": {
        "colab": {
          "base_uri": "https://localhost:8080/",
          "height": 419
        },
        "id": "QyoC8bjLs_zw",
        "outputId": "93948bf8-c42f-4b91-87a5-66732866d04b"
      },
      "source": [
        "X_train"
      ],
      "execution_count": 55,
      "outputs": [
        {
          "output_type": "execute_result",
          "data": {
            "text/html": [
              "<div>\n",
              "<style scoped>\n",
              "    .dataframe tbody tr th:only-of-type {\n",
              "        vertical-align: middle;\n",
              "    }\n",
              "\n",
              "    .dataframe tbody tr th {\n",
              "        vertical-align: top;\n",
              "    }\n",
              "\n",
              "    .dataframe thead th {\n",
              "        text-align: right;\n",
              "    }\n",
              "</style>\n",
              "<table border=\"1\" class=\"dataframe\">\n",
              "  <thead>\n",
              "    <tr style=\"text-align: right;\">\n",
              "      <th></th>\n",
              "      <th>gdp</th>\n",
              "      <th>social</th>\n",
              "      <th>healthy</th>\n",
              "      <th>freedom</th>\n",
              "      <th>generosity</th>\n",
              "      <th>corruption</th>\n",
              "    </tr>\n",
              "  </thead>\n",
              "  <tbody>\n",
              "    <tr>\n",
              "      <th>0</th>\n",
              "      <td>1.305</td>\n",
              "      <td>1.592</td>\n",
              "      <td>0.874</td>\n",
              "      <td>0.681</td>\n",
              "      <td>0.202</td>\n",
              "      <td>0.393</td>\n",
              "    </tr>\n",
              "    <tr>\n",
              "      <th>1</th>\n",
              "      <td>1.456</td>\n",
              "      <td>1.582</td>\n",
              "      <td>0.861</td>\n",
              "      <td>0.686</td>\n",
              "      <td>0.286</td>\n",
              "      <td>0.340</td>\n",
              "    </tr>\n",
              "    <tr>\n",
              "      <th>2</th>\n",
              "      <td>1.351</td>\n",
              "      <td>1.590</td>\n",
              "      <td>0.868</td>\n",
              "      <td>0.683</td>\n",
              "      <td>0.284</td>\n",
              "      <td>0.408</td>\n",
              "    </tr>\n",
              "    <tr>\n",
              "      <th>3</th>\n",
              "      <td>1.343</td>\n",
              "      <td>1.644</td>\n",
              "      <td>0.914</td>\n",
              "      <td>0.677</td>\n",
              "      <td>0.353</td>\n",
              "      <td>0.138</td>\n",
              "    </tr>\n",
              "    <tr>\n",
              "      <th>4</th>\n",
              "      <td>1.420</td>\n",
              "      <td>1.549</td>\n",
              "      <td>0.927</td>\n",
              "      <td>0.660</td>\n",
              "      <td>0.256</td>\n",
              "      <td>0.357</td>\n",
              "    </tr>\n",
              "    <tr>\n",
              "      <th>...</th>\n",
              "      <td>...</td>\n",
              "      <td>...</td>\n",
              "      <td>...</td>\n",
              "      <td>...</td>\n",
              "      <td>...</td>\n",
              "      <td>...</td>\n",
              "    </tr>\n",
              "    <tr>\n",
              "      <th>88</th>\n",
              "      <td>0.801</td>\n",
              "      <td>0.782</td>\n",
              "      <td>0.782</td>\n",
              "      <td>0.418</td>\n",
              "      <td>0.036</td>\n",
              "      <td>0.076</td>\n",
              "    </tr>\n",
              "    <tr>\n",
              "      <th>89</th>\n",
              "      <td>1.043</td>\n",
              "      <td>1.147</td>\n",
              "      <td>0.769</td>\n",
              "      <td>0.351</td>\n",
              "      <td>0.035</td>\n",
              "      <td>0.182</td>\n",
              "    </tr>\n",
              "    <tr>\n",
              "      <th>90</th>\n",
              "      <td>0.987</td>\n",
              "      <td>1.224</td>\n",
              "      <td>0.815</td>\n",
              "      <td>0.216</td>\n",
              "      <td>0.166</td>\n",
              "      <td>0.027</td>\n",
              "    </tr>\n",
              "    <tr>\n",
              "      <th>91</th>\n",
              "      <td>0.931</td>\n",
              "      <td>1.203</td>\n",
              "      <td>0.660</td>\n",
              "      <td>0.491</td>\n",
              "      <td>0.498</td>\n",
              "      <td>0.028</td>\n",
              "    </tr>\n",
              "    <tr>\n",
              "      <th>92</th>\n",
              "      <td>1.029</td>\n",
              "      <td>1.125</td>\n",
              "      <td>0.893</td>\n",
              "      <td>0.521</td>\n",
              "      <td>0.058</td>\n",
              "      <td>0.100</td>\n",
              "    </tr>\n",
              "  </tbody>\n",
              "</table>\n",
              "<p>248 rows × 6 columns</p>\n",
              "</div>"
            ],
            "text/plain": [
              "      gdp  social  healthy  freedom  generosity  corruption\n",
              "0   1.305   1.592    0.874    0.681       0.202       0.393\n",
              "1   1.456   1.582    0.861    0.686       0.286       0.340\n",
              "2   1.351   1.590    0.868    0.683       0.284       0.408\n",
              "3   1.343   1.644    0.914    0.677       0.353       0.138\n",
              "4   1.420   1.549    0.927    0.660       0.256       0.357\n",
              "..    ...     ...      ...      ...         ...         ...\n",
              "88  0.801   0.782    0.782    0.418       0.036       0.076\n",
              "89  1.043   1.147    0.769    0.351       0.035       0.182\n",
              "90  0.987   1.224    0.815    0.216       0.166       0.027\n",
              "91  0.931   1.203    0.660    0.491       0.498       0.028\n",
              "92  1.029   1.125    0.893    0.521       0.058       0.100\n",
              "\n",
              "[248 rows x 6 columns]"
            ]
          },
          "metadata": {},
          "execution_count": 55
        }
      ]
    },
    {
      "cell_type": "code",
      "metadata": {
        "colab": {
          "base_uri": "https://localhost:8080/",
          "height": 419
        },
        "id": "mq35lK2XtJvX",
        "outputId": "666a9d0a-b13d-432c-a7ca-7cfe9bde8651"
      },
      "source": [
        "X_test"
      ],
      "execution_count": 56,
      "outputs": [
        {
          "output_type": "execute_result",
          "data": {
            "text/html": [
              "<div>\n",
              "<style scoped>\n",
              "    .dataframe tbody tr th:only-of-type {\n",
              "        vertical-align: middle;\n",
              "    }\n",
              "\n",
              "    .dataframe tbody tr th {\n",
              "        vertical-align: top;\n",
              "    }\n",
              "\n",
              "    .dataframe thead th {\n",
              "        text-align: right;\n",
              "    }\n",
              "</style>\n",
              "<table border=\"1\" class=\"dataframe\">\n",
              "  <thead>\n",
              "    <tr style=\"text-align: right;\">\n",
              "      <th></th>\n",
              "      <th>gdp</th>\n",
              "      <th>social</th>\n",
              "      <th>healthy</th>\n",
              "      <th>freedom</th>\n",
              "      <th>generosity</th>\n",
              "      <th>corruption</th>\n",
              "    </tr>\n",
              "  </thead>\n",
              "  <tbody>\n",
              "    <tr>\n",
              "      <th>93</th>\n",
              "      <td>0.741</td>\n",
              "      <td>1.346</td>\n",
              "      <td>0.851</td>\n",
              "      <td>0.543</td>\n",
              "      <td>0.147</td>\n",
              "      <td>0.073</td>\n",
              "    </tr>\n",
              "    <tr>\n",
              "      <th>94</th>\n",
              "      <td>0.813</td>\n",
              "      <td>1.321</td>\n",
              "      <td>0.604</td>\n",
              "      <td>0.457</td>\n",
              "      <td>0.370</td>\n",
              "      <td>0.167</td>\n",
              "    </tr>\n",
              "    <tr>\n",
              "      <th>95</th>\n",
              "      <td>0.549</td>\n",
              "      <td>0.910</td>\n",
              "      <td>0.331</td>\n",
              "      <td>0.381</td>\n",
              "      <td>0.187</td>\n",
              "      <td>0.037</td>\n",
              "    </tr>\n",
              "    <tr>\n",
              "      <th>96</th>\n",
              "      <td>1.092</td>\n",
              "      <td>1.513</td>\n",
              "      <td>0.815</td>\n",
              "      <td>0.311</td>\n",
              "      <td>0.081</td>\n",
              "      <td>0.004</td>\n",
              "    </tr>\n",
              "    <tr>\n",
              "      <th>97</th>\n",
              "      <td>0.611</td>\n",
              "      <td>0.868</td>\n",
              "      <td>0.486</td>\n",
              "      <td>0.381</td>\n",
              "      <td>0.245</td>\n",
              "      <td>0.040</td>\n",
              "    </tr>\n",
              "    <tr>\n",
              "      <th>...</th>\n",
              "      <td>...</td>\n",
              "      <td>...</td>\n",
              "      <td>...</td>\n",
              "      <td>...</td>\n",
              "      <td>...</td>\n",
              "      <td>...</td>\n",
              "    </tr>\n",
              "    <tr>\n",
              "      <th>151</th>\n",
              "      <td>0.359</td>\n",
              "      <td>0.711</td>\n",
              "      <td>0.614</td>\n",
              "      <td>0.555</td>\n",
              "      <td>0.217</td>\n",
              "      <td>0.411</td>\n",
              "    </tr>\n",
              "    <tr>\n",
              "      <th>152</th>\n",
              "      <td>0.476</td>\n",
              "      <td>0.885</td>\n",
              "      <td>0.499</td>\n",
              "      <td>0.417</td>\n",
              "      <td>0.276</td>\n",
              "      <td>0.147</td>\n",
              "    </tr>\n",
              "    <tr>\n",
              "      <th>153</th>\n",
              "      <td>0.350</td>\n",
              "      <td>0.517</td>\n",
              "      <td>0.361</td>\n",
              "      <td>0.000</td>\n",
              "      <td>0.158</td>\n",
              "      <td>0.025</td>\n",
              "    </tr>\n",
              "    <tr>\n",
              "      <th>154</th>\n",
              "      <td>0.026</td>\n",
              "      <td>0.000</td>\n",
              "      <td>0.105</td>\n",
              "      <td>0.225</td>\n",
              "      <td>0.235</td>\n",
              "      <td>0.035</td>\n",
              "    </tr>\n",
              "    <tr>\n",
              "      <th>155</th>\n",
              "      <td>0.306</td>\n",
              "      <td>0.575</td>\n",
              "      <td>0.295</td>\n",
              "      <td>0.010</td>\n",
              "      <td>0.202</td>\n",
              "      <td>0.091</td>\n",
              "    </tr>\n",
              "  </tbody>\n",
              "</table>\n",
              "<p>63 rows × 6 columns</p>\n",
              "</div>"
            ],
            "text/plain": [
              "       gdp  social  healthy  freedom  generosity  corruption\n",
              "93   0.741   1.346    0.851    0.543       0.147       0.073\n",
              "94   0.813   1.321    0.604    0.457       0.370       0.167\n",
              "95   0.549   0.910    0.331    0.381       0.187       0.037\n",
              "96   1.092   1.513    0.815    0.311       0.081       0.004\n",
              "97   0.611   0.868    0.486    0.381       0.245       0.040\n",
              "..     ...     ...      ...      ...         ...         ...\n",
              "151  0.359   0.711    0.614    0.555       0.217       0.411\n",
              "152  0.476   0.885    0.499    0.417       0.276       0.147\n",
              "153  0.350   0.517    0.361    0.000       0.158       0.025\n",
              "154  0.026   0.000    0.105    0.225       0.235       0.035\n",
              "155  0.306   0.575    0.295    0.010       0.202       0.091\n",
              "\n",
              "[63 rows x 6 columns]"
            ]
          },
          "metadata": {},
          "execution_count": 56
        }
      ]
    },
    {
      "cell_type": "markdown",
      "metadata": {
        "id": "B2x-Q9uj2UT6"
      },
      "source": [
        "##**5.2 Resultados:**"
      ]
    },
    {
      "cell_type": "code",
      "metadata": {
        "colab": {
          "base_uri": "https://localhost:8080/"
        },
        "id": "qSeS-W_v0Z7D",
        "outputId": "cffc3103-c2be-4d33-bfcf-20a222619ad5"
      },
      "source": [
        "print(\"Intercepto : \" , ModeloLRNorm.intercept_)\n",
        "print(\"Pendiente : \" , ModeloLRNorm.coef_)\n",
        "print(\"Coeficiente de determinación R^2:\", ModeloLRNorm.score(X, y))"
      ],
      "execution_count": 57,
      "outputs": [
        {
          "output_type": "stream",
          "name": "stdout",
          "text": [
            "Intercepto :  1.7827282108771052\n",
            "Pendiente :  [0.67824247 1.19101733 1.25830839 1.37844189 0.49973698 0.8820617 ]\n",
            "Coeficiente de determinación R^2: 0.7811867001827546\n"
          ]
        }
      ]
    },
    {
      "cell_type": "markdown",
      "metadata": {
        "id": "kdKhGLu81PcC"
      },
      "source": [
        "##**5.3 Predicciones del modelo:**"
      ]
    },
    {
      "cell_type": "code",
      "metadata": {
        "colab": {
          "base_uri": "https://localhost:8080/",
          "height": 419
        },
        "id": "mMAnet0-029B",
        "outputId": "00d5a7b8-6ec5-4c49-868a-f0a14ca36193"
      },
      "source": [
        "y_pred = ModeloLRNorm.predict(X_test)\n",
        "y_pred_df = pd.DataFrame(y_pred, columns=[\"Predicted Values\" ])\n",
        "y_test_df = pd.DataFrame(np.array(y_test), columns=[\"Real Values\"])\n",
        "pd.concat([y_test_df , y_pred_df] , axis=1)"
      ],
      "execution_count": 58,
      "outputs": [
        {
          "output_type": "execute_result",
          "data": {
            "text/html": [
              "<div>\n",
              "<style scoped>\n",
              "    .dataframe tbody tr th:only-of-type {\n",
              "        vertical-align: middle;\n",
              "    }\n",
              "\n",
              "    .dataframe tbody tr th {\n",
              "        vertical-align: top;\n",
              "    }\n",
              "\n",
              "    .dataframe thead th {\n",
              "        text-align: right;\n",
              "    }\n",
              "</style>\n",
              "<table border=\"1\" class=\"dataframe\">\n",
              "  <thead>\n",
              "    <tr style=\"text-align: right;\">\n",
              "      <th></th>\n",
              "      <th>Real Values</th>\n",
              "      <th>Predicted Values</th>\n",
              "    </tr>\n",
              "  </thead>\n",
              "  <tbody>\n",
              "    <tr>\n",
              "      <th>0</th>\n",
              "      <td>5.175</td>\n",
              "      <td>5.845581</td>\n",
              "    </tr>\n",
              "    <tr>\n",
              "      <th>1</th>\n",
              "      <td>5.082</td>\n",
              "      <td>5.629646</td>\n",
              "    </tr>\n",
              "    <tr>\n",
              "      <th>2</th>\n",
              "      <td>5.044</td>\n",
              "      <td>4.306683</td>\n",
              "    </tr>\n",
              "    <tr>\n",
              "      <th>3</th>\n",
              "      <td>5.011</td>\n",
              "      <td>5.823602</td>\n",
              "    </tr>\n",
              "    <tr>\n",
              "      <th>4</th>\n",
              "      <td>4.996</td>\n",
              "      <td>4.525380</td>\n",
              "    </tr>\n",
              "    <tr>\n",
              "      <th>...</th>\n",
              "      <td>...</td>\n",
              "      <td>...</td>\n",
              "    </tr>\n",
              "    <tr>\n",
              "      <th>58</th>\n",
              "      <td>3.334</td>\n",
              "      <td>4.881637</td>\n",
              "    </tr>\n",
              "    <tr>\n",
              "      <th>59</th>\n",
              "      <td>3.231</td>\n",
              "      <td>4.629919</td>\n",
              "    </tr>\n",
              "    <tr>\n",
              "      <th>60</th>\n",
              "      <td>3.203</td>\n",
              "      <td>3.191128</td>\n",
              "    </tr>\n",
              "    <tr>\n",
              "      <th>61</th>\n",
              "      <td>3.083</td>\n",
              "      <td>2.390945</td>\n",
              "    </tr>\n",
              "    <tr>\n",
              "      <th>62</th>\n",
              "      <td>2.853</td>\n",
              "      <td>3.241305</td>\n",
              "    </tr>\n",
              "  </tbody>\n",
              "</table>\n",
              "<p>63 rows × 2 columns</p>\n",
              "</div>"
            ],
            "text/plain": [
              "    Real Values  Predicted Values\n",
              "0         5.175          5.845581\n",
              "1         5.082          5.629646\n",
              "2         5.044          4.306683\n",
              "3         5.011          5.823602\n",
              "4         4.996          4.525380\n",
              "..          ...               ...\n",
              "58        3.334          4.881637\n",
              "59        3.231          4.629919\n",
              "60        3.203          3.191128\n",
              "61        3.083          2.390945\n",
              "62        2.853          3.241305\n",
              "\n",
              "[63 rows x 2 columns]"
            ]
          },
          "metadata": {},
          "execution_count": 58
        }
      ]
    },
    {
      "cell_type": "markdown",
      "metadata": {
        "id": "lYKTXasUiMAC"
      },
      "source": [
        "##**5.3 Cálculo de errores:**"
      ]
    },
    {
      "cell_type": "code",
      "metadata": {
        "colab": {
          "base_uri": "https://localhost:8080/"
        },
        "id": "d0n8zK51jcsy",
        "outputId": "981c01b1-a3cc-4fd3-fb77-3cfe3b0b529f"
      },
      "source": [
        "# Calculando la cantidad de error del modelo\n",
        "MSE = mean_squared_error(y,ModeloLRNorm.predict(X))\n",
        "RMSE = np.sqrt(MSE)\n",
        "\n",
        "print(\"Error cuadratico medio: \", MSE)\n",
        "print(\"Raiz cuadratica media: \", RMSE)"
      ],
      "execution_count": 59,
      "outputs": [
        {
          "output_type": "stream",
          "name": "stdout",
          "text": [
            "Error cuadratico medio:  0.27050489528567023\n",
            "Raiz cuadratica media:  0.5201008510718572\n"
          ]
        }
      ]
    },
    {
      "cell_type": "markdown",
      "metadata": {
        "id": "hQn-Y10mlq_b"
      },
      "source": [
        "##**5.4 Tabla de coeficientes $(\\theta)$ modelo Python Sci-kit learn:**"
      ]
    },
    {
      "cell_type": "code",
      "metadata": {
        "colab": {
          "base_uri": "https://localhost:8080/",
          "height": 235
        },
        "id": "AFiwKxQMlJTo",
        "outputId": "7de46709-610a-41dd-dc05-bf0df734ab09"
      },
      "source": [
        "estimatePy = pd.DataFrame(zip(X.columns, ModeloLRNorm.coef_), columns = ['features', 'theta(θ) Sklearn'])\n",
        "estimatePy"
      ],
      "execution_count": 60,
      "outputs": [
        {
          "output_type": "execute_result",
          "data": {
            "text/html": [
              "<div>\n",
              "<style scoped>\n",
              "    .dataframe tbody tr th:only-of-type {\n",
              "        vertical-align: middle;\n",
              "    }\n",
              "\n",
              "    .dataframe tbody tr th {\n",
              "        vertical-align: top;\n",
              "    }\n",
              "\n",
              "    .dataframe thead th {\n",
              "        text-align: right;\n",
              "    }\n",
              "</style>\n",
              "<table border=\"1\" class=\"dataframe\">\n",
              "  <thead>\n",
              "    <tr style=\"text-align: right;\">\n",
              "      <th></th>\n",
              "      <th>features</th>\n",
              "      <th>theta(θ) Sklearn</th>\n",
              "    </tr>\n",
              "  </thead>\n",
              "  <tbody>\n",
              "    <tr>\n",
              "      <th>0</th>\n",
              "      <td>gdp</td>\n",
              "      <td>0.678242</td>\n",
              "    </tr>\n",
              "    <tr>\n",
              "      <th>1</th>\n",
              "      <td>social</td>\n",
              "      <td>1.191017</td>\n",
              "    </tr>\n",
              "    <tr>\n",
              "      <th>2</th>\n",
              "      <td>healthy</td>\n",
              "      <td>1.258308</td>\n",
              "    </tr>\n",
              "    <tr>\n",
              "      <th>3</th>\n",
              "      <td>freedom</td>\n",
              "      <td>1.378442</td>\n",
              "    </tr>\n",
              "    <tr>\n",
              "      <th>4</th>\n",
              "      <td>generosity</td>\n",
              "      <td>0.499737</td>\n",
              "    </tr>\n",
              "    <tr>\n",
              "      <th>5</th>\n",
              "      <td>corruption</td>\n",
              "      <td>0.882062</td>\n",
              "    </tr>\n",
              "  </tbody>\n",
              "</table>\n",
              "</div>"
            ],
            "text/plain": [
              "     features  theta(θ) Sklearn\n",
              "0         gdp          0.678242\n",
              "1      social          1.191017\n",
              "2     healthy          1.258308\n",
              "3     freedom          1.378442\n",
              "4  generosity          0.499737\n",
              "5  corruption          0.882062"
            ]
          },
          "metadata": {},
          "execution_count": 60
        }
      ]
    }
  ]
}